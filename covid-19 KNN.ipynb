{
 "cells": [
  {
   "cell_type": "code",
   "execution_count": 280,
   "metadata": {},
   "outputs": [],
   "source": [
    "import pandas as pd\n",
    "import numpy as np\n",
    "import matplotlib.pyplot as plt\n",
    "%matplotlib inline\n",
    "import seaborn as sns\n",
    "from sklearn.model_selection import train_test_split\n",
    "from sklearn.preprocessing import StandardScaler\n",
    "from sklearn.neighbors import KNeighborsClassifier\n",
    "from sklearn import metrics\n",
    "from sklearn.model_selection import GridSearchCV"
   ]
  },
  {
   "cell_type": "code",
   "execution_count": 238,
   "metadata": {},
   "outputs": [],
   "source": [
    "data= pd.read_csv('australia covid.csv')"
   ]
  },
  {
   "cell_type": "code",
   "execution_count": 279,
   "metadata": {},
   "outputs": [
    {
     "data": {
      "text/plain": [
       "Index(['Lat', 'Long', 'Confirmed', 'Deaths', 'Active', 'Recover'], dtype='object')"
      ]
     },
     "execution_count": 279,
     "metadata": {},
     "output_type": "execute_result"
    }
   ],
   "source": [
    "data"
   ]
  },
  {
   "cell_type": "code",
   "execution_count": 239,
   "metadata": {},
   "outputs": [
    {
     "data": {
      "text/html": [
       "<div>\n",
       "<style scoped>\n",
       "    .dataframe tbody tr th:only-of-type {\n",
       "        vertical-align: middle;\n",
       "    }\n",
       "\n",
       "    .dataframe tbody tr th {\n",
       "        vertical-align: top;\n",
       "    }\n",
       "\n",
       "    .dataframe thead th {\n",
       "        text-align: right;\n",
       "    }\n",
       "</style>\n",
       "<table border=\"1\" class=\"dataframe\">\n",
       "  <thead>\n",
       "    <tr style=\"text-align: right;\">\n",
       "      <th></th>\n",
       "      <th>Province/State</th>\n",
       "      <th>Country/Region</th>\n",
       "      <th>Lat</th>\n",
       "      <th>Long</th>\n",
       "      <th>Date</th>\n",
       "      <th>Confirmed</th>\n",
       "      <th>Deaths</th>\n",
       "      <th>Recovered</th>\n",
       "      <th>Active</th>\n",
       "      <th>WHO Region</th>\n",
       "    </tr>\n",
       "  </thead>\n",
       "  <tbody>\n",
       "    <tr>\n",
       "      <th>0</th>\n",
       "      <td>Australian Capital Territory</td>\n",
       "      <td>Australia</td>\n",
       "      <td>-35.4735</td>\n",
       "      <td>149.0124</td>\n",
       "      <td>22-01-2020</td>\n",
       "      <td>0</td>\n",
       "      <td>0</td>\n",
       "      <td>0</td>\n",
       "      <td>0</td>\n",
       "      <td>Western Pacific</td>\n",
       "    </tr>\n",
       "    <tr>\n",
       "      <th>1</th>\n",
       "      <td>New South Wales</td>\n",
       "      <td>Australia</td>\n",
       "      <td>-33.8688</td>\n",
       "      <td>151.2093</td>\n",
       "      <td>22-01-2020</td>\n",
       "      <td>0</td>\n",
       "      <td>0</td>\n",
       "      <td>0</td>\n",
       "      <td>0</td>\n",
       "      <td>Western Pacific</td>\n",
       "    </tr>\n",
       "    <tr>\n",
       "      <th>2</th>\n",
       "      <td>Northern Territory</td>\n",
       "      <td>Australia</td>\n",
       "      <td>-12.4634</td>\n",
       "      <td>130.8456</td>\n",
       "      <td>22-01-2020</td>\n",
       "      <td>0</td>\n",
       "      <td>0</td>\n",
       "      <td>0</td>\n",
       "      <td>0</td>\n",
       "      <td>Western Pacific</td>\n",
       "    </tr>\n",
       "    <tr>\n",
       "      <th>3</th>\n",
       "      <td>Queensland</td>\n",
       "      <td>Australia</td>\n",
       "      <td>-28.0167</td>\n",
       "      <td>153.4000</td>\n",
       "      <td>22-01-2020</td>\n",
       "      <td>0</td>\n",
       "      <td>0</td>\n",
       "      <td>0</td>\n",
       "      <td>0</td>\n",
       "      <td>Western Pacific</td>\n",
       "    </tr>\n",
       "    <tr>\n",
       "      <th>4</th>\n",
       "      <td>South Australia</td>\n",
       "      <td>Australia</td>\n",
       "      <td>-34.9285</td>\n",
       "      <td>138.6007</td>\n",
       "      <td>22-01-2020</td>\n",
       "      <td>0</td>\n",
       "      <td>0</td>\n",
       "      <td>0</td>\n",
       "      <td>0</td>\n",
       "      <td>Western Pacific</td>\n",
       "    </tr>\n",
       "    <tr>\n",
       "      <th>...</th>\n",
       "      <td>...</td>\n",
       "      <td>...</td>\n",
       "      <td>...</td>\n",
       "      <td>...</td>\n",
       "      <td>...</td>\n",
       "      <td>...</td>\n",
       "      <td>...</td>\n",
       "      <td>...</td>\n",
       "      <td>...</td>\n",
       "      <td>...</td>\n",
       "    </tr>\n",
       "    <tr>\n",
       "      <th>1107</th>\n",
       "      <td>Queensland</td>\n",
       "      <td>Australia</td>\n",
       "      <td>-28.0167</td>\n",
       "      <td>153.4000</td>\n",
       "      <td>08-06-2020</td>\n",
       "      <td>1062</td>\n",
       "      <td>6</td>\n",
       "      <td>1051</td>\n",
       "      <td>5</td>\n",
       "      <td>Western Pacific</td>\n",
       "    </tr>\n",
       "    <tr>\n",
       "      <th>1108</th>\n",
       "      <td>South Australia</td>\n",
       "      <td>Australia</td>\n",
       "      <td>-34.9285</td>\n",
       "      <td>138.6007</td>\n",
       "      <td>08-06-2020</td>\n",
       "      <td>440</td>\n",
       "      <td>4</td>\n",
       "      <td>436</td>\n",
       "      <td>0</td>\n",
       "      <td>Western Pacific</td>\n",
       "    </tr>\n",
       "    <tr>\n",
       "      <th>1109</th>\n",
       "      <td>Tasmania</td>\n",
       "      <td>Australia</td>\n",
       "      <td>-41.4545</td>\n",
       "      <td>145.9707</td>\n",
       "      <td>08-06-2020</td>\n",
       "      <td>228</td>\n",
       "      <td>13</td>\n",
       "      <td>209</td>\n",
       "      <td>6</td>\n",
       "      <td>Western Pacific</td>\n",
       "    </tr>\n",
       "    <tr>\n",
       "      <th>1110</th>\n",
       "      <td>Victoria</td>\n",
       "      <td>Australia</td>\n",
       "      <td>-37.8136</td>\n",
       "      <td>144.9631</td>\n",
       "      <td>08-06-2020</td>\n",
       "      <td>1687</td>\n",
       "      <td>19</td>\n",
       "      <td>1602</td>\n",
       "      <td>66</td>\n",
       "      <td>Western Pacific</td>\n",
       "    </tr>\n",
       "    <tr>\n",
       "      <th>1111</th>\n",
       "      <td>Western Australia</td>\n",
       "      <td>Australia</td>\n",
       "      <td>-31.9505</td>\n",
       "      <td>115.8605</td>\n",
       "      <td>08-06-2020</td>\n",
       "      <td>599</td>\n",
       "      <td>9</td>\n",
       "      <td>560</td>\n",
       "      <td>30</td>\n",
       "      <td>Western Pacific</td>\n",
       "    </tr>\n",
       "  </tbody>\n",
       "</table>\n",
       "<p>1112 rows × 10 columns</p>\n",
       "</div>"
      ],
      "text/plain": [
       "                    Province/State Country/Region      Lat      Long  \\\n",
       "0     Australian Capital Territory      Australia -35.4735  149.0124   \n",
       "1                  New South Wales      Australia -33.8688  151.2093   \n",
       "2               Northern Territory      Australia -12.4634  130.8456   \n",
       "3                       Queensland      Australia -28.0167  153.4000   \n",
       "4                  South Australia      Australia -34.9285  138.6007   \n",
       "...                            ...            ...      ...       ...   \n",
       "1107                    Queensland      Australia -28.0167  153.4000   \n",
       "1108               South Australia      Australia -34.9285  138.6007   \n",
       "1109                      Tasmania      Australia -41.4545  145.9707   \n",
       "1110                      Victoria      Australia -37.8136  144.9631   \n",
       "1111             Western Australia      Australia -31.9505  115.8605   \n",
       "\n",
       "            Date  Confirmed  Deaths  Recovered  Active       WHO Region  \n",
       "0     22-01-2020          0       0          0       0  Western Pacific  \n",
       "1     22-01-2020          0       0          0       0  Western Pacific  \n",
       "2     22-01-2020          0       0          0       0  Western Pacific  \n",
       "3     22-01-2020          0       0          0       0  Western Pacific  \n",
       "4     22-01-2020          0       0          0       0  Western Pacific  \n",
       "...          ...        ...     ...        ...     ...              ...  \n",
       "1107  08-06-2020       1062       6       1051       5  Western Pacific  \n",
       "1108  08-06-2020        440       4        436       0  Western Pacific  \n",
       "1109  08-06-2020        228      13        209       6  Western Pacific  \n",
       "1110  08-06-2020       1687      19       1602      66  Western Pacific  \n",
       "1111  08-06-2020        599       9        560      30  Western Pacific  \n",
       "\n",
       "[1112 rows x 10 columns]"
      ]
     },
     "execution_count": 239,
     "metadata": {},
     "output_type": "execute_result"
    }
   ],
   "source": [
    "data"
   ]
  },
  {
   "cell_type": "code",
   "execution_count": 240,
   "metadata": {},
   "outputs": [
    {
     "data": {
      "text/html": [
       "<div>\n",
       "<style scoped>\n",
       "    .dataframe tbody tr th:only-of-type {\n",
       "        vertical-align: middle;\n",
       "    }\n",
       "\n",
       "    .dataframe tbody tr th {\n",
       "        vertical-align: top;\n",
       "    }\n",
       "\n",
       "    .dataframe thead th {\n",
       "        text-align: right;\n",
       "    }\n",
       "</style>\n",
       "<table border=\"1\" class=\"dataframe\">\n",
       "  <thead>\n",
       "    <tr style=\"text-align: right;\">\n",
       "      <th></th>\n",
       "      <th>count</th>\n",
       "      <th>mean</th>\n",
       "      <th>std</th>\n",
       "      <th>min</th>\n",
       "      <th>25%</th>\n",
       "      <th>50%</th>\n",
       "      <th>75%</th>\n",
       "      <th>max</th>\n",
       "    </tr>\n",
       "  </thead>\n",
       "  <tbody>\n",
       "    <tr>\n",
       "      <th>Lat</th>\n",
       "      <td>1112.0</td>\n",
       "      <td>-31.996188</td>\n",
       "      <td>8.256493</td>\n",
       "      <td>-41.4545</td>\n",
       "      <td>-36.058525</td>\n",
       "      <td>-34.39865</td>\n",
       "      <td>-30.967050</td>\n",
       "      <td>-12.4634</td>\n",
       "    </tr>\n",
       "    <tr>\n",
       "      <th>Long</th>\n",
       "      <td>1112.0</td>\n",
       "      <td>141.232788</td>\n",
       "      <td>11.747471</td>\n",
       "      <td>115.8605</td>\n",
       "      <td>136.661925</td>\n",
       "      <td>145.46690</td>\n",
       "      <td>149.561625</td>\n",
       "      <td>153.4000</td>\n",
       "    </tr>\n",
       "    <tr>\n",
       "      <th>Confirmed</th>\n",
       "      <td>1112.0</td>\n",
       "      <td>449.603417</td>\n",
       "      <td>774.571530</td>\n",
       "      <td>0.0000</td>\n",
       "      <td>3.000000</td>\n",
       "      <td>71.00000</td>\n",
       "      <td>544.250000</td>\n",
       "      <td>3114.0000</td>\n",
       "    </tr>\n",
       "    <tr>\n",
       "      <th>Deaths</th>\n",
       "      <td>1112.0</td>\n",
       "      <td>5.300360</td>\n",
       "      <td>9.881370</td>\n",
       "      <td>0.0000</td>\n",
       "      <td>0.000000</td>\n",
       "      <td>0.00000</td>\n",
       "      <td>6.000000</td>\n",
       "      <td>48.0000</td>\n",
       "    </tr>\n",
       "    <tr>\n",
       "      <th>Recovered</th>\n",
       "      <td>1112.0</td>\n",
       "      <td>308.351619</td>\n",
       "      <td>603.117450</td>\n",
       "      <td>0.0000</td>\n",
       "      <td>0.000000</td>\n",
       "      <td>8.00000</td>\n",
       "      <td>372.000000</td>\n",
       "      <td>2729.0000</td>\n",
       "    </tr>\n",
       "    <tr>\n",
       "      <th>Active</th>\n",
       "      <td>1112.0</td>\n",
       "      <td>135.951439</td>\n",
       "      <td>380.037219</td>\n",
       "      <td>0.0000</td>\n",
       "      <td>0.000000</td>\n",
       "      <td>6.00000</td>\n",
       "      <td>75.000000</td>\n",
       "      <td>2868.0000</td>\n",
       "    </tr>\n",
       "  </tbody>\n",
       "</table>\n",
       "</div>"
      ],
      "text/plain": [
       "            count        mean         std       min         25%        50%  \\\n",
       "Lat        1112.0  -31.996188    8.256493  -41.4545  -36.058525  -34.39865   \n",
       "Long       1112.0  141.232788   11.747471  115.8605  136.661925  145.46690   \n",
       "Confirmed  1112.0  449.603417  774.571530    0.0000    3.000000   71.00000   \n",
       "Deaths     1112.0    5.300360    9.881370    0.0000    0.000000    0.00000   \n",
       "Recovered  1112.0  308.351619  603.117450    0.0000    0.000000    8.00000   \n",
       "Active     1112.0  135.951439  380.037219    0.0000    0.000000    6.00000   \n",
       "\n",
       "                  75%        max  \n",
       "Lat        -30.967050   -12.4634  \n",
       "Long       149.561625   153.4000  \n",
       "Confirmed  544.250000  3114.0000  \n",
       "Deaths       6.000000    48.0000  \n",
       "Recovered  372.000000  2729.0000  \n",
       "Active      75.000000  2868.0000  "
      ]
     },
     "execution_count": 240,
     "metadata": {},
     "output_type": "execute_result"
    }
   ],
   "source": [
    "data.describe().T"
   ]
  },
  {
   "cell_type": "code",
   "execution_count": 241,
   "metadata": {},
   "outputs": [
    {
     "data": {
      "text/plain": [
       "Province/State    0\n",
       "Country/Region    0\n",
       "Lat               0\n",
       "Long              0\n",
       "Date              0\n",
       "Confirmed         0\n",
       "Deaths            0\n",
       "Recovered         0\n",
       "Active            0\n",
       "WHO Region        0\n",
       "dtype: int64"
      ]
     },
     "execution_count": 241,
     "metadata": {},
     "output_type": "execute_result"
    }
   ],
   "source": [
    "data.isnull().sum()"
   ]
  },
  {
   "cell_type": "code",
   "execution_count": 242,
   "metadata": {},
   "outputs": [
    {
     "data": {
      "text/plain": [
       "Province/State     object\n",
       "Country/Region     object\n",
       "Lat               float64\n",
       "Long              float64\n",
       "Date               object\n",
       "Confirmed           int64\n",
       "Deaths              int64\n",
       "Recovered           int64\n",
       "Active              int64\n",
       "WHO Region         object\n",
       "dtype: object"
      ]
     },
     "execution_count": 242,
     "metadata": {},
     "output_type": "execute_result"
    }
   ],
   "source": [
    "data.dtypes"
   ]
  },
  {
   "cell_type": "markdown",
   "metadata": {},
   "source": [
    "### Creating a new column as Recover "
   ]
  },
  {
   "cell_type": "code",
   "execution_count": 243,
   "metadata": {},
   "outputs": [],
   "source": [
    "recover=[]\n",
    "for i in data.Recovered:\n",
    "    if i==0:\n",
    "        recover.append(0)\n",
    "    else:\n",
    "        recover.append(1)\n",
    "        "
   ]
  },
  {
   "cell_type": "markdown",
   "metadata": {},
   "source": [
    "### In Recover column, 1 means recovered and 0 means not recovered"
   ]
  },
  {
   "cell_type": "code",
   "execution_count": 244,
   "metadata": {},
   "outputs": [],
   "source": [
    "data['Recover']=recover"
   ]
  },
  {
   "cell_type": "code",
   "execution_count": 245,
   "metadata": {},
   "outputs": [],
   "source": [
    "x=data['Recover'].value_counts()"
   ]
  },
  {
   "cell_type": "code",
   "execution_count": 246,
   "metadata": {},
   "outputs": [
    {
     "data": {
      "image/png": "[encoded data removed]",
      "text/plain": [
       "<Figure size 216x288 with 1 Axes>"
      ]
     },
     "metadata": {},
     "output_type": "display_data"
    }
   ],
   "source": [
    "plt.figure(figsize=(3,4))\n",
    "sns.barplot(data=data, x=x.index, y=x.values)\n",
    "sns.set_style('darkgrid')\n",
    "plt.show()"
   ]
  },
  {
   "cell_type": "code",
   "execution_count": 247,
   "metadata": {},
   "outputs": [
    {
     "data": {
      "text/plain": [
       "1    769\n",
       "0    343\n",
       "Name: Recover, dtype: int64"
      ]
     },
     "execution_count": 247,
     "metadata": {},
     "output_type": "execute_result"
    }
   ],
   "source": [
    "data.Recover.value_counts()"
   ]
  },
  {
   "cell_type": "code",
   "execution_count": 192,
   "metadata": {},
   "outputs": [
    {
     "data": {
      "text/plain": [
       "<matplotlib.axes._subplots.AxesSubplot at 0x1fd4f20fb88>"
      ]
     },
     "execution_count": 192,
     "metadata": {},
     "output_type": "execute_result"
    },
    {
     "data": {
      "image/png": "[encoded data removed]",
      "text/plain": [
       "<Figure size 864x432 with 1 Axes>"
      ]
     },
     "metadata": {},
     "output_type": "display_data"
    }
   ],
   "source": [
    "plt.figure(figsize=(12,6))\n",
    "sns.scatterplot(data=data, x='Date', y='Deaths', hue='Recover', s=50)\n"
   ]
  },
  {
   "cell_type": "code",
   "execution_count": 248,
   "metadata": {},
   "outputs": [],
   "source": [
    "data.drop(columns=['Province/State','Country/Region','Recovered','WHO Region','Date'], inplace=True)"
   ]
  },
  {
   "cell_type": "code",
   "execution_count": 249,
   "metadata": {},
   "outputs": [
    {
     "data": {
      "text/html": [
       "<div>\n",
       "<style scoped>\n",
       "    .dataframe tbody tr th:only-of-type {\n",
       "        vertical-align: middle;\n",
       "    }\n",
       "\n",
       "    .dataframe tbody tr th {\n",
       "        vertical-align: top;\n",
       "    }\n",
       "\n",
       "    .dataframe thead th {\n",
       "        text-align: right;\n",
       "    }\n",
       "</style>\n",
       "<table border=\"1\" class=\"dataframe\">\n",
       "  <thead>\n",
       "    <tr style=\"text-align: right;\">\n",
       "      <th></th>\n",
       "      <th>Lat</th>\n",
       "      <th>Long</th>\n",
       "      <th>Confirmed</th>\n",
       "      <th>Deaths</th>\n",
       "      <th>Active</th>\n",
       "      <th>Recover</th>\n",
       "    </tr>\n",
       "  </thead>\n",
       "  <tbody>\n",
       "    <tr>\n",
       "      <th>0</th>\n",
       "      <td>-35.4735</td>\n",
       "      <td>149.0124</td>\n",
       "      <td>0</td>\n",
       "      <td>0</td>\n",
       "      <td>0</td>\n",
       "      <td>0</td>\n",
       "    </tr>\n",
       "    <tr>\n",
       "      <th>1</th>\n",
       "      <td>-33.8688</td>\n",
       "      <td>151.2093</td>\n",
       "      <td>0</td>\n",
       "      <td>0</td>\n",
       "      <td>0</td>\n",
       "      <td>0</td>\n",
       "    </tr>\n",
       "    <tr>\n",
       "      <th>2</th>\n",
       "      <td>-12.4634</td>\n",
       "      <td>130.8456</td>\n",
       "      <td>0</td>\n",
       "      <td>0</td>\n",
       "      <td>0</td>\n",
       "      <td>0</td>\n",
       "    </tr>\n",
       "    <tr>\n",
       "      <th>3</th>\n",
       "      <td>-28.0167</td>\n",
       "      <td>153.4000</td>\n",
       "      <td>0</td>\n",
       "      <td>0</td>\n",
       "      <td>0</td>\n",
       "      <td>0</td>\n",
       "    </tr>\n",
       "    <tr>\n",
       "      <th>4</th>\n",
       "      <td>-34.9285</td>\n",
       "      <td>138.6007</td>\n",
       "      <td>0</td>\n",
       "      <td>0</td>\n",
       "      <td>0</td>\n",
       "      <td>0</td>\n",
       "    </tr>\n",
       "  </tbody>\n",
       "</table>\n",
       "</div>"
      ],
      "text/plain": [
       "       Lat      Long  Confirmed  Deaths  Active  Recover\n",
       "0 -35.4735  149.0124          0       0       0        0\n",
       "1 -33.8688  151.2093          0       0       0        0\n",
       "2 -12.4634  130.8456          0       0       0        0\n",
       "3 -28.0167  153.4000          0       0       0        0\n",
       "4 -34.9285  138.6007          0       0       0        0"
      ]
     },
     "execution_count": 249,
     "metadata": {},
     "output_type": "execute_result"
    }
   ],
   "source": [
    "data.head()"
   ]
  },
  {
   "cell_type": "code",
   "execution_count": 250,
   "metadata": {},
   "outputs": [
    {
     "data": {
      "text/plain": [
       "1    769\n",
       "0    343\n",
       "Name: Recover, dtype: int64"
      ]
     },
     "execution_count": 250,
     "metadata": {},
     "output_type": "execute_result"
    }
   ],
   "source": [
    "data.Recover.value_counts()"
   ]
  },
  {
   "cell_type": "code",
   "execution_count": 251,
   "metadata": {},
   "outputs": [
    {
     "data": {
      "text/plain": [
       "Index(['Active', 'Confirmed', 'Deaths', 'Lat', 'Long'], dtype='object')"
      ]
     },
     "execution_count": 251,
     "metadata": {},
     "output_type": "execute_result"
    }
   ],
   "source": [
    "features=data.columns.difference(['Recover'])\n",
    "features"
   ]
  },
  {
   "cell_type": "code",
   "execution_count": 281,
   "metadata": {},
   "outputs": [
    {
     "data": {
      "text/html": [
       "<div>\n",
       "<style scoped>\n",
       "    .dataframe tbody tr th:only-of-type {\n",
       "        vertical-align: middle;\n",
       "    }\n",
       "\n",
       "    .dataframe tbody tr th {\n",
       "        vertical-align: top;\n",
       "    }\n",
       "\n",
       "    .dataframe thead th {\n",
       "        text-align: right;\n",
       "    }\n",
       "</style>\n",
       "<table border=\"1\" class=\"dataframe\">\n",
       "  <thead>\n",
       "    <tr style=\"text-align: right;\">\n",
       "      <th></th>\n",
       "      <th>Active</th>\n",
       "      <th>Confirmed</th>\n",
       "      <th>Deaths</th>\n",
       "      <th>Lat</th>\n",
       "      <th>Long</th>\n",
       "    </tr>\n",
       "  </thead>\n",
       "  <tbody>\n",
       "    <tr>\n",
       "      <th>0</th>\n",
       "      <td>-0.357893</td>\n",
       "      <td>-0.580716</td>\n",
       "      <td>-0.536641</td>\n",
       "      <td>-0.421350</td>\n",
       "      <td>0.662535</td>\n",
       "    </tr>\n",
       "    <tr>\n",
       "      <th>1</th>\n",
       "      <td>-0.357893</td>\n",
       "      <td>-0.580716</td>\n",
       "      <td>-0.536641</td>\n",
       "      <td>-0.226907</td>\n",
       "      <td>0.849630</td>\n",
       "    </tr>\n",
       "    <tr>\n",
       "      <th>2</th>\n",
       "      <td>-0.357893</td>\n",
       "      <td>-0.580716</td>\n",
       "      <td>-0.536641</td>\n",
       "      <td>2.366813</td>\n",
       "      <td>-0.884604</td>\n",
       "    </tr>\n",
       "    <tr>\n",
       "      <th>3</th>\n",
       "      <td>-0.357893</td>\n",
       "      <td>-0.580716</td>\n",
       "      <td>-0.536641</td>\n",
       "      <td>0.482200</td>\n",
       "      <td>1.036196</td>\n",
       "    </tr>\n",
       "    <tr>\n",
       "      <th>4</th>\n",
       "      <td>-0.357893</td>\n",
       "      <td>-0.580716</td>\n",
       "      <td>-0.536641</td>\n",
       "      <td>-0.355312</td>\n",
       "      <td>-0.224156</td>\n",
       "    </tr>\n",
       "    <tr>\n",
       "      <th>...</th>\n",
       "      <td>...</td>\n",
       "      <td>...</td>\n",
       "      <td>...</td>\n",
       "      <td>...</td>\n",
       "      <td>...</td>\n",
       "    </tr>\n",
       "    <tr>\n",
       "      <th>1107</th>\n",
       "      <td>-0.344730</td>\n",
       "      <td>0.790982</td>\n",
       "      <td>0.070836</td>\n",
       "      <td>0.482200</td>\n",
       "      <td>1.036196</td>\n",
       "    </tr>\n",
       "    <tr>\n",
       "      <th>1108</th>\n",
       "      <td>-0.357893</td>\n",
       "      <td>-0.012404</td>\n",
       "      <td>-0.131656</td>\n",
       "      <td>-0.355312</td>\n",
       "      <td>-0.224156</td>\n",
       "    </tr>\n",
       "    <tr>\n",
       "      <th>1109</th>\n",
       "      <td>-0.342098</td>\n",
       "      <td>-0.286227</td>\n",
       "      <td>0.779558</td>\n",
       "      <td>-1.146076</td>\n",
       "      <td>0.403495</td>\n",
       "    </tr>\n",
       "    <tr>\n",
       "      <th>1110</th>\n",
       "      <td>-0.184148</td>\n",
       "      <td>1.598243</td>\n",
       "      <td>1.387035</td>\n",
       "      <td>-0.704903</td>\n",
       "      <td>0.317685</td>\n",
       "    </tr>\n",
       "    <tr>\n",
       "      <th>1111</th>\n",
       "      <td>-0.278918</td>\n",
       "      <td>0.192963</td>\n",
       "      <td>0.374574</td>\n",
       "      <td>0.005536</td>\n",
       "      <td>-2.160780</td>\n",
       "    </tr>\n",
       "  </tbody>\n",
       "</table>\n",
       "<p>1112 rows × 5 columns</p>\n",
       "</div>"
      ],
      "text/plain": [
       "        Active  Confirmed    Deaths       Lat      Long\n",
       "0    -0.357893  -0.580716 -0.536641 -0.421350  0.662535\n",
       "1    -0.357893  -0.580716 -0.536641 -0.226907  0.849630\n",
       "2    -0.357893  -0.580716 -0.536641  2.366813 -0.884604\n",
       "3    -0.357893  -0.580716 -0.536641  0.482200  1.036196\n",
       "4    -0.357893  -0.580716 -0.536641 -0.355312 -0.224156\n",
       "...        ...        ...       ...       ...       ...\n",
       "1107 -0.344730   0.790982  0.070836  0.482200  1.036196\n",
       "1108 -0.357893  -0.012404 -0.131656 -0.355312 -0.224156\n",
       "1109 -0.342098  -0.286227  0.779558 -1.146076  0.403495\n",
       "1110 -0.184148   1.598243  1.387035 -0.704903  0.317685\n",
       "1111 -0.278918   0.192963  0.374574  0.005536 -2.160780\n",
       "\n",
       "[1112 rows x 5 columns]"
      ]
     },
     "execution_count": 281,
     "metadata": {},
     "output_type": "execute_result"
    }
   ],
   "source": [
    "sc= StandardScaler()\n",
    "data_model=sc.fit(data[features])\n",
    "data_scaled=data_model.transform(data[features])\n",
    "data_scaled=pd.DataFrame(data_scaled, columns=data[features].columns)\n",
    "data_scaled"
   ]
  },
  {
   "cell_type": "markdown",
   "metadata": {},
   "source": [
    "### Train Test Split"
   ]
  },
  {
   "cell_type": "code",
   "execution_count": 255,
   "metadata": {},
   "outputs": [],
   "source": [
    "train_X, test_X, train_y, test_y = train_test_split( data_scaled,data['Recover'],\n",
    "                                                  test_size = 0.3, random_state=123)"
   ]
  },
  {
   "cell_type": "markdown",
   "metadata": {},
   "source": [
    "### KNN-Classifier"
   ]
  },
  {
   "cell_type": "code",
   "execution_count": 256,
   "metadata": {},
   "outputs": [
    {
     "data": {
      "text/plain": [
       "KNeighborsClassifier(algorithm='auto', leaf_size=30, metric='minkowski',\n",
       "                     metric_params=None, n_jobs=None, n_neighbors=5, p=2,\n",
       "                     weights='uniform')"
      ]
     },
     "execution_count": 256,
     "metadata": {},
     "output_type": "execute_result"
    }
   ],
   "source": [
    "knn_clf = KNeighborsClassifier(n_neighbors=5)\n",
    "knn_clf.fit(train_X, train_y )"
   ]
  },
  {
   "cell_type": "code",
   "execution_count": 257,
   "metadata": {},
   "outputs": [
    {
     "name": "stdout",
     "output_type": "stream",
     "text": [
      "              precision    recall  f1-score   support\n",
      "\n",
      "           0       0.91      0.98      0.94       101\n",
      "           1       0.99      0.96      0.97       233\n",
      "\n",
      "    accuracy                           0.96       334\n",
      "   macro avg       0.95      0.97      0.96       334\n",
      "weighted avg       0.97      0.96      0.96       334\n",
      "\n"
     ]
    }
   ],
   "source": [
    "print(metrics.classification_report(test_y, knn_clf.predict(test_X)))"
   ]
  },
  {
   "cell_type": "markdown",
   "metadata": {},
   "source": [
    "### With tuning parameters using GridSearchCV"
   ]
  },
  {
   "cell_type": "code",
   "execution_count": 266,
   "metadata": {},
   "outputs": [],
   "source": [
    "tuned_parameters = [{'n_neighbors': np.arange(3,9)}]\n",
    "\n",
    "knn_clf = GridSearchCV(KNeighborsClassifier(),\n",
    "                   tuned_parameters,\n",
    "                   cv=10,\n",
    "                   scoring='accuracy')"
   ]
  },
  {
   "cell_type": "code",
   "execution_count": 268,
   "metadata": {},
   "outputs": [
    {
     "data": {
      "text/plain": [
       "GridSearchCV(cv=10, error_score=nan,\n",
       "             estimator=KNeighborsClassifier(algorithm='auto', leaf_size=30,\n",
       "                                            metric='minkowski',\n",
       "                                            metric_params=None, n_jobs=None,\n",
       "                                            n_neighbors=5, p=2,\n",
       "                                            weights='uniform'),\n",
       "             iid='deprecated', n_jobs=None,\n",
       "             param_grid=[{'n_neighbors': array([3, 4, 5, 6, 7, 8])}],\n",
       "             pre_dispatch='2*n_jobs', refit=True, return_train_score=False,\n",
       "             scoring='accuracy', verbose=0)"
      ]
     },
     "execution_count": 268,
     "metadata": {},
     "output_type": "execute_result"
    }
   ],
   "source": [
    "knn_clf.fit(train_X, train_y )"
   ]
  },
  {
   "cell_type": "code",
   "execution_count": 269,
   "metadata": {},
   "outputs": [
    {
     "data": {
      "text/plain": [
       "0.9897102897102897"
      ]
     },
     "execution_count": 269,
     "metadata": {},
     "output_type": "execute_result"
    }
   ],
   "source": [
    "knn_clf.best_score_"
   ]
  },
  {
   "cell_type": "code",
   "execution_count": 261,
   "metadata": {},
   "outputs": [
    {
     "data": {
      "text/plain": [
       "{'n_neighbors': 3}"
      ]
     },
     "execution_count": 261,
     "metadata": {},
     "output_type": "execute_result"
    }
   ],
   "source": [
    "knn_clsf.best_params_"
   ]
  },
  {
   "cell_type": "code",
   "execution_count": 270,
   "metadata": {},
   "outputs": [
    {
     "name": "stdout",
     "output_type": "stream",
     "text": [
      "              precision    recall  f1-score   support\n",
      "\n",
      "           0       0.95      0.99      0.97       101\n",
      "           1       1.00      0.98      0.99       233\n",
      "\n",
      "    accuracy                           0.98       334\n",
      "   macro avg       0.97      0.98      0.98       334\n",
      "weighted avg       0.98      0.98      0.98       334\n",
      "\n"
     ]
    }
   ],
   "source": [
    "print(metrics.classification_report(test_y, knn_clf.predict(test_X)))"
   ]
  },
  {
   "cell_type": "code",
   "execution_count": 275,
   "metadata": {},
   "outputs": [
    {
     "data": {
      "text/plain": [
       "array([[100,   1],\n",
       "       [  5, 228]], dtype=int64)"
      ]
     },
     "execution_count": 275,
     "metadata": {},
     "output_type": "execute_result"
    }
   ],
   "source": [
    "knn_cm=metrics.confusion_matrix( test_y, knn_clf.predict( test_X ))\n",
    "knn_cm"
   ]
  },
  {
   "cell_type": "code",
   "execution_count": 278,
   "metadata": {},
   "outputs": [
    {
     "data": {
      "text/plain": [
       "Text(0.5, 16.0, 'Predicted label')"
      ]
     },
     "execution_count": 278,
     "metadata": {},
     "output_type": "execute_result"
    },
    {
     "data": {
      "image/png": "[encoded data removed]",
      "text/plain": [
       "<Figure size 432x288 with 2 Axes>"
      ]
     },
     "metadata": {},
     "output_type": "display_data"
    }
   ],
   "source": [
    "sn.heatmap(knn_cm, annot=True,  fmt='.2f', xticklabels = [\" Not Recoverd\", \" Recovered\"] , yticklabels = [\"Not Recoverd\", \" Recovered\"] )\n",
    "plt.ylabel('True label')\n",
    "plt.xlabel('Predicted label')"
   ]
  },
  {
   "cell_type": "code",
   "execution_count": 284,
   "metadata": {},
   "outputs": [
    {
     "name": "stdout",
     "output_type": "stream",
     "text": [
      "Accuracy score: 0.9820359281437125\n"
     ]
    }
   ],
   "source": [
    "print('Accuracy score:',metrics.accuracy_score( test_y, knn_clf.predict( test_X ) ))"
   ]
  },
  {
   "cell_type": "code",
   "execution_count": null,
   "metadata": {},
   "outputs": [],
   "source": []
  }
 ],
 "metadata": {
  "kernelspec": {
   "display_name": "Python 3",
   "language": "python",
   "name": "python3"
  },
  "language_info": {
   "codemirror_mode": {
    "name": "ipython",
    "version": 3
   },
   "file_extension": ".py",
   "mimetype": "text/x-python",
   "name": "python",
   "nbconvert_exporter": "python",
   "pygments_lexer": "ipython3",
   "version": "3.7.7"
  }
 },
 "nbformat": 4,
 "nbformat_minor": 4
}
